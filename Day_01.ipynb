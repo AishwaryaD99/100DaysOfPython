{
 "cells": [
  {
   "cell_type": "code",
   "execution_count": null,
   "metadata": {},
   "outputs": [
    {
     "name": "stdout",
     "output_type": "stream",
     "text": [
      "Kai\n",
      "Veridian Road,Pallet Town\n",
      "Kanto, PokeWorld\n"
     ]
    }
   ],
   "source": [
    "# Exercise 1: Mailing Address\n",
    "\n",
    "print(\"Aishwarya\\nVeridian Road,Pallet Town\\nKanto, PokeWorld\")"
   ]
  },
  {
   "cell_type": "code",
   "execution_count": 1,
   "metadata": {},
   "outputs": [
    {
     "name": "stdout",
     "output_type": "stream",
     "text": [
      "Hello  Ai\n"
     ]
    }
   ],
   "source": [
    "#Exercise 2: Hello\n",
    "name = input(\"Enter your name : \")\n",
    "print(\"Hello \",name)\n"
   ]
  },
  {
   "cell_type": "code",
   "execution_count": 4,
   "metadata": {},
   "outputs": [
    {
     "name": "stdout",
     "output_type": "stream",
     "text": [
      "Area of Field is :  6.0  meter sq.\n"
     ]
    }
   ],
   "source": [
    "# Exercise 3: Area of a Room\n",
    "\n",
    "length= float(input(\"Enter length in meters : \"))\n",
    "width = float(input(\"Enter the width in meters : \"))\n",
    "\n",
    "print(\"Area of Field is : \",length*width,' meter sq.')"
   ]
  },
  {
   "cell_type": "code",
   "execution_count": 8,
   "metadata": {},
   "outputs": [
    {
     "name": "stdout",
     "output_type": "stream",
     "text": [
      "Area of Field is :  68.87  meter sq.\n"
     ]
    }
   ],
   "source": [
    "#Exercise 4: Area of a Field\n",
    "\n",
    "\n",
    "length= float(input(\"Enter length in feet : \"))\n",
    "width = float(input(\"Enter the width in feet : \"))\n",
    "\n",
    "area = round(((length*width)/43560),2)\n",
    "\n",
    "print(\"Area of Field is : \",area,' meter sq.')\n"
   ]
  },
  {
   "cell_type": "code",
   "execution_count": 19,
   "metadata": {},
   "outputs": [
    {
     "name": "stdout",
     "output_type": "stream",
     "text": [
      "Your refund amount is : $  10.0\n"
     ]
    }
   ],
   "source": [
    "# Exercise 5: Bottle Deposits\n",
    "\n",
    "rate_one_l = 0.10\n",
    "more_than_one_l = 0.25\n",
    "\n",
    "n1 = float(input(\"Enter the no. of bottles with capacity one litres or less : \"))\n",
    "\n",
    "n2 = float(input(\"Enter the no. of bottles with capacity with more than 1 litre : \"))\n",
    "\n",
    "amount = round(((n1*rate_one_l)+(n2*more_than_one_l)),2)\n",
    "\n",
    "print(\"Your refund amount is : $ \", amount)\n"
   ]
  },
  {
   "cell_type": "code",
   "execution_count": 18,
   "metadata": {},
   "outputs": [
    {
     "name": "stdout",
     "output_type": "stream",
     "text": [
      "Your refund amount is : $ 15.00\n"
     ]
    }
   ],
   "source": [
    "# Exercise 5: Bottle Deposits\n",
    "\n",
    "rate_one_l = 0.10\n",
    "more_than_one_l = 0.25\n",
    "\n",
    "n1 = int(input(\"Enter the no. of bottles with capacity one litres or less : \"))\n",
    "\n",
    "n2 = int(input(\"Enter the no. of bottles with capacity with more than 1 litre : \"))\n",
    "\n",
    "amount = ((n1*rate_one_l)+(n2*more_than_one_l))\n",
    "\n",
    "print(\"Your refund amount is : $ %.2f\" %amount)"
   ]
  },
  {
   "cell_type": "code",
   "execution_count": 16,
   "metadata": {},
   "outputs": [
    {
     "name": "stdout",
     "output_type": "stream",
     "text": [
      "Tax is = 60.00\n",
      "Tip is = 90.00\n",
      "Total = 650.00\n"
     ]
    }
   ],
   "source": [
    "# Exercise 6:Tax and Tip\n",
    "\n",
    "cost = eval(input(\"Enter the cost of meal : \"))\n",
    "\n",
    "tax = 0.12\n",
    "tip = 0.18\n",
    "\n",
    "tax_amnt = cost*tax\n",
    "tip_amnt = cost*tip\n",
    "total = cost + tip_amnt + tax_amnt\n",
    "\n",
    "print('''Tax is = %.2f\\nTip is = %.2f\\nTotal = %.2f''' % (tax_amnt,tip_amnt,total))\n"
   ]
  },
  {
   "cell_type": "code",
   "execution_count": 23,
   "metadata": {},
   "outputs": [
    {
     "name": "stdout",
     "output_type": "stream",
     "text": [
      "Invalid input\n",
      "sum is : 55\n"
     ]
    }
   ],
   "source": [
    "# Sum of the First n Positive Integers\n",
    "while True:\n",
    "  n = int(input(\"Enter a positive integer: \"))\n",
    "\n",
    "  if n>0:\n",
    "\n",
    "    sum = n *(n+1)/2\n",
    "    print(\"sum is : %d\"%sum)\n",
    "    break \n",
    "  \n",
    "  else :\n",
    "     print(\"Invalid input\")\n",
    "     continue  "
   ]
  },
  {
   "cell_type": "code",
   "execution_count": 26,
   "metadata": {},
   "outputs": [
    {
     "name": "stdout",
     "output_type": "stream",
     "text": [
      "The total weight is 2.99 kg\n"
     ]
    }
   ],
   "source": [
    "# Exercise 8:Widgets and Gizmos\n",
    "\n",
    "widgets_w = 75\n",
    "gizmo_w = 112\n",
    "\n",
    "widgets = int(input(\"Enter the number of widgets : \"))\n",
    "gizmos = int(input(\"Enter the number of gizmos : \"))\n",
    "\n",
    "total_weight = ((widgets*widgets_w) + (gizmos*gizmo_w))/1000\n",
    "print(\"The total weight is %.2f kg\"%total_weight)"
   ]
  },
  {
   "cell_type": "code",
   "execution_count": 27,
   "metadata": {},
   "outputs": [
    {
     "name": "stdout",
     "output_type": "stream",
     "text": [
      "Your balance after 1 year is 10400.00\n",
      "after 2 years is 10816.00\n",
      "after 3 years is 11248.64\n"
     ]
    }
   ],
   "source": [
    "# Exercise 9: Compound Interest\n",
    "\n",
    "interest = 0.04\n",
    "amt = eval(input(\"Enter the amount deposited : \"))\n",
    "yr_1 = amt+(interest*amt)\n",
    "yr_2 = yr_1 + (yr_1*interest)\n",
    "yr_3 = yr_2 + (yr_2*interest)\n",
    "\n",
    "print('''Your balance after 1 year is %.2f\\nafter 2 years is %.2f\\nafter 3 years is %.2f'''%(yr_1,yr_2,yr_3))"
   ]
  },
  {
   "cell_type": "code",
   "execution_count": 35,
   "metadata": {},
   "outputs": [
    {
     "name": "stdout",
     "output_type": "stream",
     "text": [
      "The sum of 3 and 2 is : 5 \n",
      "The difference when 3 is subtracted from 2 is : 1 \n",
      "The product of 3 and 2 is : 6 \n",
      "The quotient when 3 is divided by 2 is : 1.00\n",
      "The remainder when 3 is divided by 2 is : 1 \n",
      "The result of log10 3 is  0\n",
      "The result of 3^2 is : 9\n"
     ]
    }
   ],
   "source": [
    "# Exercise 10: Arithmetic\n",
    "from math import log10 \n",
    "while True: \n",
    " a = int(input(\"Enter an integer : \"))\n",
    " b = int(input(\"Enter second integer : \"))\n",
    " if a>0 and b>0 :\n",
    "    sum = a+b\n",
    "    diff = a-b\n",
    "    product = a*b\n",
    "    quo = a%b\n",
    "    rem = a//b\n",
    "    log = log10(a)\n",
    "    power = a**b\n",
    "\n",
    "    print(\"The sum of %a and %a is : %a \"%(a,b,sum))\n",
    "    print(\"The difference when %a is subtracted from %a is : %a \"%(a,b,diff))\n",
    "    print(\"The product of %d and %d is : %d \"%(a,b,product))\n",
    "    print(\"The quotient when %a is divided by %a is : %.2f\"%(a,b,quo))\n",
    "    print(\"The remainder when %a is divided by %a is : %a \"%(a,b,rem))\n",
    "    print(\"The result of log10 %a is %2.f\"%(a,log)) \n",
    "    print(\"The result of %a^%a is : %a\"%(a,b,power))\n",
    "    break\n",
    " else:\n",
    "   print(\"Invalid integers\")\n"
   ]
  }
 ],
 "metadata": {
  "kernelspec": {
   "display_name": ".venv",
   "language": "python",
   "name": "python3"
  },
  "language_info": {
   "codemirror_mode": {
    "name": "ipython",
    "version": 3
   },
   "file_extension": ".py",
   "mimetype": "text/x-python",
   "name": "python",
   "nbconvert_exporter": "python",
   "pygments_lexer": "ipython3",
   "version": "3.10.5"
  },
  "orig_nbformat": 4
 },
 "nbformat": 4,
 "nbformat_minor": 2
}
